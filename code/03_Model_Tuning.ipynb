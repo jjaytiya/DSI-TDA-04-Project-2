{
 "cells": [
  {
   "cell_type": "markdown",
   "metadata": {},
   "source": [
    "# Import"
   ]
  },
  {
   "cell_type": "code",
   "execution_count": 2,
   "metadata": {},
   "outputs": [],
   "source": [
    "import pandas as pd\n",
    "import numpy as np\n",
    "import seaborn as sns\n",
    "import matplotlib.pyplot as plt\n",
    "plt.style.use(\"ggplot\")\n",
    "import plotly.express as px\n",
    "import missingno as msno\n",
    "\n",
    "from sklearn.impute import KNNImputer, SimpleImputer\n",
    "from sklearn.dummy import DummyRegressor\n",
    "from sklearn.model_selection import train_test_split, GridSearchCV\n",
    "from sklearn.metrics import mean_squared_error, r2_score\n",
    "from sklearn.model_selection import train_test_split, cross_val_score\n",
    "from sklearn.linear_model import RidgeCV, LassoCV, HuberRegressor, RANSACRegressor\n",
    "import statsmodels.api as sm"
   ]
  },
  {
   "cell_type": "markdown",
   "metadata": {},
   "source": [
    "# Load Data"
   ]
  },
  {
   "cell_type": "code",
   "execution_count": 4,
   "metadata": {},
   "outputs": [],
   "source": [
    "train_clean = pd.read_csv('../datasets/train_clean.csv')\n",
    "test_df = pd.read_csv('../datasets/test_imputed.csv')"
   ]
  },
  {
   "cell_type": "code",
   "execution_count": 5,
   "metadata": {},
   "outputs": [
    {
     "data": {
      "text/plain": [
       "(14103, 164)"
      ]
     },
     "execution_count": 5,
     "metadata": {},
     "output_type": "execute_result"
    }
   ],
   "source": [
    "# check columns\n",
    "train_clean.shape"
   ]
  },
  {
   "cell_type": "code",
   "execution_count": 6,
   "metadata": {},
   "outputs": [
    {
     "data": {
      "text/plain": [
       "(2500, 163)"
      ]
     },
     "execution_count": 6,
     "metadata": {},
     "output_type": "execute_result"
    }
   ],
   "source": [
    "# check columns\n",
    "test_df.shape"
   ]
  },
  {
   "cell_type": "markdown",
   "metadata": {},
   "source": [
    "# Modelling"
   ]
  },
  {
   "cell_type": "markdown",
   "metadata": {},
   "source": [
    "#### Set Feature"
   ]
  },
  {
   "cell_type": "code",
   "execution_count": 20,
   "metadata": {},
   "outputs": [],
   "source": [
    "# Get dummy station columns\n",
    "dummy_station_columns = [col for col in train_clean.columns if col.startswith('station_name')]\n",
    "\n",
    "# Feature set\n",
    "# Define the feature columns\n",
    "feature_cols1 = ['bedrooms', 'baths', 'land_area', 'floor_area', 'nearby_bus_stops', 'nearby_supermarkets', 'floor_level', 'facilities', \n",
    "                 'Nonthaburi', 'Samut Prakan', 'Townhouse', 'Detached House'] + dummy_station_columns\n",
    "feature_cols2 = ['bedrooms', 'baths', 'land_area', 'floor_area', 'nearby_bus_stops', 'nearby_supermarkets', \n",
    "                 'nearby_stations', 'year_built', 'total_units', 'floor_level', 'facilities', 'Nonthaburi', 'Samut Prakan', 'Townhouse', 'Detached House']\n",
    "feature_cols3 = ['bedrooms', 'baths', 'land_area', 'floor_area', 'Nonthaburi', 'Samut Prakan'] + dummy_station_columns\n",
    "feature_cols4 = ['bedrooms', 'baths', 'land_area', 'floor_area', 'nearby_bus_stops', 'nearby_stations', \n",
    "                 'year_built', 'nearby_shops', 'Nonthaburi', 'Samut Prakan', 'Townhouse', 'Detached House'] + dummy_station_columns \n",
    "feature_cols5 = ['bedrooms', 'baths', 'land_area', 'floor_area', 'nearby_bus_stops','nearby_stations', \n",
    "                'latitude', 'longitude', 'Nonthaburi', 'Samut Prakan', 'Townhouse', 'Detached House'] + dummy_station_columns \n",
    "feature_cols6 = ['bedrooms', 'baths', 'land_area', 'floor_area', 'nearby_bus_stops', 'nearby_supermarkets', \n",
    "                 'nearby_stations', 'year_built', 'total_units', 'floor_level', 'facilities', \n",
    "                 'Nonthaburi', 'Samut Prakan', 'Townhouse', 'Detached House'] + dummy_station_columns\n",
    "feature_cols6 = ['bedrooms', 'baths', 'land_area', 'floor_area', 'nearby_bus_stops', 'nearby_supermarkets', \n",
    "                 'year_built', 'total_units', 'floor_level', 'facilities', \n",
    "                 'nearby_stations','Nonthaburi', 'Samut Prakan', 'Townhouse', 'Detached House'] + dummy_station_columns\n",
    "feature_cols7 = ['bedrooms', 'baths', 'land_area', 'floor_area', 'nearby_bus_stops', 'nearby_supermarkets', \n",
    "                 'nearby_stations','total_units', 'floor_level', 'facilities', \n",
    "                 'Nonthaburi', 'Samut Prakan', 'Townhouse', 'Detached House'] + dummy_station_columns\n",
    "# Define feature set\n",
    "feature_sets = [\n",
    "    (feature_cols1, 'Model 1'),\n",
    "    (feature_cols2, 'Model 2'),\n",
    "    (feature_cols3, 'Model 3'),\n",
    "    (feature_cols4, 'Model 4'),\n",
    "    (feature_cols5, 'Model 5'),\n",
    "    (feature_cols6, 'Model 6'),\n",
    "    (feature_cols7, 'Model 7')\n",
    "]\n"
   ]
  },
  {
   "cell_type": "code",
   "execution_count": 22,
   "metadata": {},
   "outputs": [
    {
     "name": "stdout",
     "output_type": "stream",
     "text": [
      "Results for Model 1:\n",
      "RidgeCV: RMSE = 1287667.20, R^2 = 0.65\n",
      "LassoCV: RMSE = 1288812.11, R^2 = 0.65\n",
      "Huber: RMSE = 1295719.51, R^2 = 0.64\n",
      "RANSAC: RMSE = 17232148187835654144.00, R^2 = -63143348018212561752162304.00\n",
      "Decision Tree: RMSE = 1286991.29, R^2 = 0.65\n",
      "\n",
      "\n",
      "Results for Model 2:\n",
      "RidgeCV: RMSE = 1410370.63, R^2 = 0.58\n",
      "LassoCV: RMSE = 1410377.27, R^2 = 0.58\n",
      "Huber: RMSE = 1419004.59, R^2 = 0.57\n",
      "RANSAC: RMSE = 1981393.41, R^2 = 0.17\n",
      "Decision Tree: RMSE = 1264052.15, R^2 = 0.66\n",
      "\n",
      "\n",
      "Results for Model 3:\n",
      "RidgeCV: RMSE = 1456909.99, R^2 = 0.55\n",
      "LassoCV: RMSE = 1454383.44, R^2 = 0.55\n",
      "Huber: RMSE = 1469918.21, R^2 = 0.54\n",
      "RANSAC: RMSE = 69755009014225215488.00, R^2 = -1034664533595802599640006656.00\n",
      "Decision Tree: RMSE = 1329397.43, R^2 = 0.62\n",
      "\n",
      "\n",
      "Results for Model 4:\n",
      "RidgeCV: RMSE = 1276577.54, R^2 = 0.65\n",
      "LassoCV: RMSE = 1276417.79, R^2 = 0.65\n",
      "Huber: RMSE = 1289523.44, R^2 = 0.65\n",
      "RANSAC: RMSE = 29060197575936520192.00, R^2 = -179575005963209599906480128.00\n",
      "Decision Tree: RMSE = 1177508.67, R^2 = 0.71\n",
      "\n",
      "\n",
      "Results for Model 5:\n",
      "RidgeCV: RMSE = 1333783.06, R^2 = 0.62\n",
      "LassoCV: RMSE = 1333178.98, R^2 = 0.62\n",
      "Huber: RMSE = 1344170.23, R^2 = 0.62\n",
      "RANSAC: RMSE = 45413502389628100608.00, R^2 = -438549639216281604946132992.00\n",
      "Decision Tree: RMSE = 1088637.33, R^2 = 0.75\n",
      "\n",
      "\n",
      "Results for Model 6:\n",
      "RidgeCV: RMSE = 1243627.13, R^2 = 0.67\n",
      "LassoCV: RMSE = 1244714.77, R^2 = 0.67\n",
      "Huber: RMSE = 1251755.37, R^2 = 0.67\n",
      "RANSAC: RMSE = 14542731463817347072.00, R^2 = -44971847965327967846924288.00\n",
      "Decision Tree: RMSE = 1192453.02, R^2 = 0.70\n",
      "\n",
      "\n",
      "Results for Model 7:\n",
      "RidgeCV: RMSE = 1260554.31, R^2 = 0.66\n",
      "LassoCV: RMSE = 1261259.59, R^2 = 0.66\n",
      "Huber: RMSE = 1267125.42, R^2 = 0.66\n",
      "RANSAC: RMSE = 27011437461500293120.00, R^2 = -155147276866321602047901696.00\n",
      "Decision Tree: RMSE = 1202443.45, R^2 = 0.69\n",
      "\n",
      "\n",
      "The model with the lowest RMSE is: Model 5 - Decision Tree with an RMSE of 1088637.33\n"
     ]
    }
   ],
   "source": [
    "from sklearn.tree import DecisionTreeRegressor  # Import DecisionTreeRegressor\n",
    "from sklearn.preprocessing import StandardScaler\n",
    "\n",
    "# Function to train and evaluate a model\n",
    "def run_models(X, y):\n",
    "    # Apply scale to improve convergence \n",
    "    scaler = StandardScaler()\n",
    "    X_scaled = scaler.fit_transform(X)\n",
    "\n",
    "    # Split the data into training and testing sets\n",
    "    X_train, X_test, y_train, y_test = train_test_split(X_scaled, y, test_size=0.2, random_state=42)  # 80:20\n",
    "\n",
    "    # Initialize models\n",
    "    models = {\n",
    "        'RidgeCV': RidgeCV(),\n",
    "        'LassoCV': LassoCV(),\n",
    "        'Huber': HuberRegressor(max_iter=2000),  # Increased max_iter \n",
    "        'RANSAC': RANSACRegressor(),\n",
    "        'Decision Tree': DecisionTreeRegressor()  # Add Decision Tree model. \n",
    "    }\n",
    "    \n",
    "    # Store results\n",
    "    results = {}\n",
    "\n",
    "    # Fit models and calculate RMSE and R^2\n",
    "    for model_name, model in models.items():\n",
    "        model.fit(X_train, y_train)\n",
    "        \n",
    "        y_pred = model.predict(X_test)\n",
    "        \n",
    "        rmse = np.sqrt(mean_squared_error(y_test, y_pred))\n",
    "        r2 = r2_score(y_test, y_pred)  # Calculate R^2 score\n",
    "        \n",
    "        results[model_name] = {'RMSE': rmse, 'R^2': r2}  # Store both metrics\n",
    "\n",
    "    return results\n",
    "\n",
    "# Create variables to track model that hase the best RMSE \n",
    "best_rmse = float('inf')  # Start with infinity as the best RMSE\n",
    "best_model = None         # To store the name of the best model\n",
    "\n",
    "\n",
    "# Iterate through each feature set and run the models\n",
    "for feature_cols, model_name in feature_sets:\n",
    "    X = train_clean[feature_cols]  # Select the features based on the current feature set\n",
    "    y = train_clean['price']        # Target variable\n",
    "\n",
    "    # Run models for the feature set\n",
    "    results = run_models(X, y)\n",
    "\n",
    "    # Print the results \n",
    "    print(f\"Results for {model_name}:\")\n",
    "    for model, metrics in results.items():\n",
    "        print(f\"{model}: RMSE = {metrics['RMSE']:.2f}, R^2 = {metrics['R^2']:.2f}\")\n",
    "        \n",
    "        # Check which model has the lowest RMSE\n",
    "        if metrics['RMSE'] < best_rmse:\n",
    "            best_rmse = metrics['RMSE']\n",
    "            best_model = f\"{model_name} - {model}\"  # Include the feature set name\n",
    "\n",
    "    print(\"\\n\")  \n",
    "\n",
    "# Print the model with the lowest RMSE\n",
    "print(f\"The model with the lowest RMSE is: {best_model} with an RMSE of {best_rmse:.2f}\")"
   ]
  },
  {
   "cell_type": "code",
   "execution_count": 14,
   "metadata": {},
   "outputs": [
    {
     "data": {
      "text/plain": [
       "(14103, 164)"
      ]
     },
     "execution_count": 14,
     "metadata": {},
     "output_type": "execute_result"
    }
   ],
   "source": [
    "train_clean.shape"
   ]
  },
  {
   "cell_type": "code",
   "execution_count": 15,
   "metadata": {},
   "outputs": [
    {
     "data": {
      "text/plain": [
       "(2500, 163)"
      ]
     },
     "execution_count": 15,
     "metadata": {},
     "output_type": "execute_result"
    }
   ],
   "source": [
    "test_df.shape"
   ]
  },
  {
   "cell_type": "code",
   "execution_count": null,
   "metadata": {},
   "outputs": [],
   "source": []
  }
 ],
 "metadata": {
  "kernelspec": {
   "display_name": "Python 3 (ipykernel)",
   "language": "python",
   "name": "python3"
  },
  "language_info": {
   "codemirror_mode": {
    "name": "ipython",
    "version": 3
   },
   "file_extension": ".py",
   "mimetype": "text/x-python",
   "name": "python",
   "nbconvert_exporter": "python",
   "pygments_lexer": "ipython3",
   "version": "3.12.4"
  }
 },
 "nbformat": 4,
 "nbformat_minor": 4
}
