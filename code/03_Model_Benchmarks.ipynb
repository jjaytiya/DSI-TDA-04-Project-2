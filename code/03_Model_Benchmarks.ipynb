{
 "cells": [
  {
   "cell_type": "markdown",
   "metadata": {},
   "source": [
    "# Import"
   ]
  },
  {
   "cell_type": "code",
   "execution_count": 2,
   "metadata": {},
   "outputs": [],
   "source": [
    "import pandas as pd\n",
    "import numpy as np\n",
    "import seaborn as sns\n",
    "import matplotlib.pyplot as plt\n",
    "plt.style.use(\"ggplot\")\n",
    "import missingno as msno\n",
    "\n",
    "from sklearn.impute import KNNImputer, SimpleImputer\n",
    "from sklearn.dummy import DummyRegressor\n",
    "from sklearn.model_selection import train_test_split\n",
    "from sklearn.metrics import mean_squared_error, r2_score\n",
    "from sklearn.model_selection import train_test_split, cross_val_score\n",
    "from sklearn.linear_model import LinearRegression, Ridge, Lasso, HuberRegressor\n",
    "import statsmodels.api as sm"
   ]
  },
  {
   "cell_type": "markdown",
   "metadata": {},
   "source": [
    "# Load Data"
   ]
  },
  {
   "cell_type": "code",
   "execution_count": 4,
   "metadata": {},
   "outputs": [],
   "source": [
    "train_clean = pd.read_csv('../datasets/train_clean.csv')\n",
    "test_df = pd.read_csv('../datasets/test_imputed.csv')"
   ]
  },
  {
   "cell_type": "code",
   "execution_count": 5,
   "metadata": {},
   "outputs": [
    {
     "data": {
      "text/plain": [
       "(14103, 164)"
      ]
     },
     "execution_count": 5,
     "metadata": {},
     "output_type": "execute_result"
    }
   ],
   "source": [
    "# check columns\n",
    "train_clean.shape"
   ]
  },
  {
   "cell_type": "code",
   "execution_count": 6,
   "metadata": {},
   "outputs": [
    {
     "data": {
      "text/plain": [
       "(2500, 163)"
      ]
     },
     "execution_count": 6,
     "metadata": {},
     "output_type": "execute_result"
    }
   ],
   "source": [
    "# check columns\n",
    "test_df.shape"
   ]
  },
  {
   "cell_type": "markdown",
   "metadata": {},
   "source": [
    "# Modelling"
   ]
  },
  {
   "cell_type": "markdown",
   "metadata": {},
   "source": [
    "#### Set Feature"
   ]
  },
  {
   "cell_type": "code",
   "execution_count": 9,
   "metadata": {},
   "outputs": [
    {
     "data": {
      "text/plain": [
       "139"
      ]
     },
     "execution_count": 9,
     "metadata": {},
     "output_type": "execute_result"
    }
   ],
   "source": [
    "dummy_station_columns = [col for col in train_clean.columns if col.startswith('station_name_')]\n",
    "len(dummy_station_columns)"
   ]
  },
  {
   "cell_type": "code",
   "execution_count": 10,
   "metadata": {},
   "outputs": [
    {
     "name": "stdout",
     "output_type": "stream",
     "text": [
      "In train but not in test: {'price'}\n",
      "\n",
      "In test but not in train: set()\n"
     ]
    }
   ],
   "source": [
    "# Check why there is not the same column shape\n",
    "train_columns = set(train_clean.columns)\n",
    "test_columns = set(test_df.columns)\n",
    "\n",
    "# Columns in train but not in test\n",
    "train_not_in_test = train_columns - test_columns\n",
    "\n",
    "# Columns in test but not in train\n",
    "test_not_in_train = test_columns - train_columns\n",
    "\n",
    "print(\n",
    "    f\"In train but not in test: {train_not_in_test}\\n\\n\"\n",
    "    f\"In test but not in train: {test_not_in_train}\"\n",
    ")\n"
   ]
  },
  {
   "cell_type": "code",
   "execution_count": 11,
   "metadata": {},
   "outputs": [],
   "source": [
    "# Get dummy station columns\n",
    "dummy_station_columns = [col for col in train_clean.columns if col.startswith('station_name')]\n",
    "\n",
    "# Feature set\n",
    "# Define the feature columns\n",
    "feature_cols1 = ['bedrooms', 'baths', 'land_area', 'floor_area', 'nearby_bus_stops', 'nearby_supermarkets', 'floor_level', 'facilities', \n",
    "                 'Nonthaburi', 'Samut Prakan', 'Townhouse', 'Detached House'] + dummy_station_columns\n",
    "feature_cols2 = ['bedrooms', 'baths', 'land_area', 'floor_area', 'nearby_bus_stops', 'nearby_supermarkets', \n",
    "                 'nearby_stations', 'year_built', 'total_units', 'floor_level', 'facilities', 'Nonthaburi', 'Samut Prakan', 'Townhouse', 'Detached House']\n",
    "feature_cols3 = ['bedrooms', 'baths', 'land_area', 'floor_area', 'Nonthaburi', 'Samut Prakan'] + dummy_station_columns\n",
    "feature_cols4 = ['bedrooms', 'baths', 'land_area', 'floor_area', 'nearby_bus_stops', 'nearby_stations', \n",
    "                 'year_built', 'nearby_shops', 'Nonthaburi', 'Samut Prakan', 'Townhouse', 'Detached House'] + dummy_station_columns \n",
    "feature_cols5 = ['bedrooms', 'baths', 'land_area', 'floor_area', 'nearby_bus_stops', 'nearby_stations', \n",
    "                 'year_built', 'latitude', 'longitude', 'Nonthaburi', 'Samut Prakan', 'Townhouse', 'Detached House'] + dummy_station_columns \n",
    "feature_cols6 = ['bedrooms', 'baths', 'land_area', 'floor_area', 'nearby_bus_stops', 'nearby_supermarkets', \n",
    "                 'nearby_stations', 'year_built', 'total_units', 'floor_level', 'facilities', \n",
    "                 'Nonthaburi', 'Samut Prakan', 'Townhouse', 'Detached House'] + dummy_station_columns\n",
    "feature_cols6 = ['bedrooms', 'baths', 'land_area', 'floor_area', 'nearby_bus_stops', 'nearby_supermarkets', \n",
    "                 'year_built', 'total_units', 'floor_level', 'facilities', \n",
    "                 'nearby_stations','Nonthaburi', 'Samut Prakan', 'Townhouse', 'Detached House'] + dummy_station_columns\n",
    "feature_cols7 = ['bedrooms', 'baths', 'land_area', 'floor_area', 'nearby_bus_stops', 'nearby_supermarkets', \n",
    "                 'nearby_stations','total_units', 'floor_level', 'facilities', \n",
    "                 'Nonthaburi', 'Samut Prakan', 'Townhouse', 'Detached House'] + dummy_station_columns\n",
    "# Define feature set\n",
    "feature_sets = [\n",
    "    (feature_cols1, 'Model 1'),\n",
    "    (feature_cols2, 'Model 2'),\n",
    "    (feature_cols3, 'Model 3'),\n",
    "    (feature_cols4, 'Model 4'),\n",
    "    (feature_cols5, 'Model 5'),\n",
    "    (feature_cols6, 'Model 6'),\n",
    "    (feature_cols7, 'Model 7')\n",
    "]\n"
   ]
  },
  {
   "cell_type": "code",
   "execution_count": 12,
   "metadata": {},
   "outputs": [
    {
     "name": "stdout",
     "output_type": "stream",
     "text": [
      "\n",
      "Evaluating Model 1\n",
      "RMSE: 1,287,542.57, R-squared: 0.65\n",
      "\n",
      "Evaluating Model 2\n",
      "RMSE: 1,410,255.78, R-squared: 0.58\n",
      "\n",
      "Evaluating Model 3\n",
      "RMSE: 1,456,995.15, R-squared: 0.55\n",
      "\n",
      "Evaluating Model 4\n",
      "RMSE: 1,276,346.70, R-squared: 0.65\n",
      "\n",
      "Evaluating Model 5\n",
      "RMSE: 1,301,603.60, R-squared: 0.64\n",
      "\n",
      "Evaluating Model 6\n",
      "RMSE: 1,243,351.24, R-squared: 0.67\n",
      "\n",
      "Evaluating Model 7\n",
      "RMSE: 1,260,312.94, R-squared: 0.66\n"
     ]
    }
   ],
   "source": [
    "# Function to train and evaluate a model\n",
    "def train_and_evaluate(train_data, feature_set, target, model):\n",
    "  \n",
    "    # Define features and target variable\n",
    "    X = train_data[feature_set]  # Predictor variables\n",
    "    y = train_data[target]  # Target variable\n",
    "\n",
    "    # Split the dataset into training and validation sets\n",
    "    X_train, X_dev, y_train, y_dev = train_test_split(X, y, train_size=0.8, random_state=42)\n",
    "\n",
    "    # Fit the model\n",
    "    model.fit(X_train, y_train)\n",
    "\n",
    "    # Make predictions\n",
    "    y_pred = model.predict(X_dev)\n",
    "\n",
    "    # Calculate metrics\n",
    "    rmse = np.sqrt(mean_squared_error(y_dev, y_pred))\n",
    "    r2 = r2_score(y_dev, y_pred)\n",
    "\n",
    "    # Prepare metrics for return\n",
    "    metrics = {\n",
    "        'RMSE': rmse,\n",
    "        'R-squared': r2\n",
    "    }\n",
    "    \n",
    "    return metrics\n",
    "\n",
    "\n",
    "# Run on the feature sets\n",
    "for feature_set, model_name in feature_sets:\n",
    "    print(f\"\\nEvaluating {model_name}\")\n",
    "    \n",
    "    # Instantiate the model\n",
    "    lr = LinearRegression()\n",
    "    \n",
    "    # Call the train_and_evaluate function\n",
    "    metrics = train_and_evaluate(train_clean, feature_set, 'price', lr)\n",
    "    \n",
    "    # Print the results\n",
    "    print(f\"RMSE: {metrics['RMSE']:,.2f}, R-squared: {metrics['R-squared']:.2f}\")"
   ]
  },
  {
   "cell_type": "code",
   "execution_count": 13,
   "metadata": {},
   "outputs": [
    {
     "name": "stdout",
     "output_type": "stream",
     "text": [
      "                            OLS Regression Results                            \n",
      "==============================================================================\n",
      "Dep. Variable:           price_scaled   R-squared:                       0.517\n",
      "Model:                            OLS   Adj. R-squared:                  0.516\n",
      "Method:                 Least Squares   F-statistic:                     1158.\n",
      "Date:                Thu, 31 Oct 2024   Prob (F-statistic):               0.00\n",
      "Time:                        00:03:08   Log-Likelihood:                -25794.\n",
      "No. Observations:               14103   AIC:                         5.162e+04\n",
      "Df Residuals:                   14089   BIC:                         5.172e+04\n",
      "Df Model:                          13                                         \n",
      "Covariance Type:            nonrobust                                         \n",
      "=======================================================================================\n",
      "                          coef    std err          t      P>|t|      [0.025      0.975]\n",
      "---------------------------------------------------------------------------------------\n",
      "const                 -79.2759      7.580    -10.459      0.000     -94.133     -64.419\n",
      "bedrooms                0.3360      0.028     12.081      0.000       0.282       0.391\n",
      "baths                   0.9000      0.031     29.207      0.000       0.840       0.960\n",
      "land_area               0.0061      0.000     12.415      0.000       0.005       0.007\n",
      "floor_area              0.0086      0.000     20.874      0.000       0.008       0.009\n",
      "nearby_supermarkets     0.0849      0.003     30.534      0.000       0.079       0.090\n",
      "nearby_stations         0.5742      0.015     38.088      0.000       0.545       0.604\n",
      "year_built              0.0392      0.004     10.413      0.000       0.032       0.047\n",
      "floor_level             0.0315      0.002     17.486      0.000       0.028       0.035\n",
      "facilities              0.0604      0.004     14.733      0.000       0.052       0.068\n",
      "Nonthaburi             -0.9827      0.035    -27.688      0.000      -1.052      -0.913\n",
      "Samut Prakan           -0.8898      0.040    -22.334      0.000      -0.968      -0.812\n",
      "Townhouse              -1.6859      0.071    -23.654      0.000      -1.826      -1.546\n",
      "Detached House         -0.9954      0.114     -8.763      0.000      -1.218      -0.773\n",
      "==============================================================================\n",
      "Omnibus:                      873.770   Durbin-Watson:                   1.963\n",
      "Prob(Omnibus):                  0.000   Jarque-Bera (JB):             1396.598\n",
      "Skew:                           0.505   Prob(JB):                    5.40e-304\n",
      "Kurtosis:                       4.164   Cond. No.                     1.20e+06\n",
      "==============================================================================\n",
      "\n",
      "Notes:\n",
      "[1] Standard Errors assume that the covariance matrix of the errors is correctly specified.\n",
      "[2] The condition number is large, 1.2e+06. This might indicate that there are\n",
      "strong multicollinearity or other numerical problems.\n"
     ]
    }
   ],
   "source": [
    "# Scale target variable (price) and selected predictors by dividing by 1,000,000 to interpret values in millions\n",
    "train_clean['price_scaled'] = train_clean['price'] / 1e6  # create price_scaled to scale for millions\n",
    "\n",
    "# Define the features and target variable\n",
    "X = train_clean[['bedrooms', 'baths', 'land_area', 'floor_area', 'nearby_supermarkets', \n",
    "                 'nearby_stations', 'year_built','floor_level', 'facilities', \n",
    "                 'Nonthaburi', 'Samut Prakan', 'Townhouse', 'Detached House']] \n",
    "y = train_clean['price_scaled']\n",
    "\n",
    "# Add a constant for the intercept\n",
    "X = sm.add_constant(X)\n",
    "\n",
    "# Fit the regression model\n",
    "model = sm.OLS(y, X).fit()\n",
    "\n",
    "# Print the model summary\n",
    "print(model.summary())\n"
   ]
  },
  {
   "cell_type": "code",
   "execution_count": 14,
   "metadata": {},
   "outputs": [],
   "source": [
    "# Interpret\n",
    "#bedrooms (0.34): Each additional bedroom is associated with an increase in price by approximately 340,000 \n",
    "#baths (0.90): Each additional bathroom contributes an estimated 900,000 THB increase in property value.\n",
    "#land_area (0.0061): For each additional unit (likely square metres) of land area, the price increases by about 6,100 THB\n",
    "#floor_area (0.0086): Each additional unit of floor area raises the price by around 8,600 THB\n",
    "\n",
    "\n",
    "#Nonthaburi (-0.98) and Samut Prakan (-0.89): Properties in Nonthaburi and Samut Prakan \n",
    "# are associated with decreases in price by approximately 980,000 THB and 890,000 THB respectively, relative to the baseline (Bangkok).\n",
    "\n",
    "#Townhouse (-1.69) and Detached House (-0.9954): \n",
    "# These property types are associated with a decrease in value compared to Condo. \n",
    "# Specifically, townhouses are valued lower by 1.69 million, and detached houses by approximately 995,400 THB\n"
   ]
  }
 ],
 "metadata": {
  "kernelspec": {
   "display_name": "Python 3 (ipykernel)",
   "language": "python",
   "name": "python3"
  },
  "language_info": {
   "codemirror_mode": {
    "name": "ipython",
    "version": 3
   },
   "file_extension": ".py",
   "mimetype": "text/x-python",
   "name": "python",
   "nbconvert_exporter": "python",
   "pygments_lexer": "ipython3",
   "version": "3.12.4"
  }
 },
 "nbformat": 4,
 "nbformat_minor": 4
}
